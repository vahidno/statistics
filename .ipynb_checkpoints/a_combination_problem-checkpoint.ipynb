{
 "cells": [
  {
   "cell_type": "markdown",
   "metadata": {},
   "source": [
    "# A Combination Problem"
   ]
  },
  {
   "cell_type": "markdown",
   "metadata": {},
   "source": [
    "Source: \n",
    "Anita randomly picks 4 cards from a deck of 52-cards and places them back into the deck ( Any set of 4 cards is equally likely ). Then, Babita randomly chooses 8 cards out of the same deck ( Any set of 8 cards is equally likely). Assume that the choice of 4 cards by Anita and the choice of 8 cards by Babita are independent. What is the probability that all 4 cards chosen by Anita are in the set of 8 cards chosen by Babita?\n",
    "(Question 7 from the <a href=\"https://www.analyticsvidhya.com/blog/2017/04/40-questions-on-probability-for-all-aspiring-data-scientists/\" target=\"_blank\">contest</a>)"
   ]
  },
  {
   "cell_type": "markdown",
   "metadata": {},
   "source": [
    "We can either solve this problem using Monte Carlo simulation or solve it using exact analytical methods."
   ]
  },
  {
   "cell_type": "markdown",
   "metadata": {},
   "source": [
    "## Monte Carlo Simulation\n"
   ]
  },
  {
   "cell_type": "code",
   "execution_count": 1,
   "metadata": {},
   "outputs": [
    {
     "name": "stdout",
     "output_type": "stream",
     "text": [
      "Probability that all 4 cards chosen by Anita are in the of set of 8 cards chosen by Babita is (using Monte Carlo simulation): 0.000210\n"
     ]
    }
   ],
   "source": [
    "import numpy as np\n",
    "# Define a deck of 52 unique cards\n",
    "deck = range(1,53)\n",
    "#print(\"Deck of cards (from 1 to 52): \" + str(deck))\n",
    "\n",
    "# number of simulation replications/runs\n",
    "num_reps = 100000 \n",
    "\n",
    "# initialize the counter which counts the number of times all 4 Anita's cards \n",
    "# are in the set of 8 cards chosen by Babia\n",
    "counter = 0\n",
    "\n",
    "# start the simulation\n",
    "for rep in range(num_reps):\n",
    "    # Anita: randomly choose 4 cards from our deck of 52 cards (without replacement).\n",
    "    Anita_cards = np.random.choice(deck, size=4, replace = False)\n",
    "    #print(\"Anita's cards:\" + str(Anita_cards))\n",
    "\n",
    "    # Babita: randomly choose 8 cards from our deck of 52 cards (without replacement).\n",
    "    Babita_cards = np.random.choice(deck, size=8, replace = False)\n",
    "    #print(\"Babita's cards\" + str(Babita_cards))\n",
    "    \n",
    "    # Check if all 4 cards chosen by Anita are in the of set of 8 cards chosen by Babita\n",
    "    if set(Anita_cards).issubset(set(Babita_cards)):\n",
    "        counter+=1\n",
    "    #print(\"counter: \" + str(counter))\n",
    "\n",
    "    \n",
    "# calculate the probability that all 4 cards chosen by Anita are in the of set of 8 cards chosen by Babita\n",
    "sim_prob = counter/num_reps\n",
    "\n",
    "# print the results\n",
    "print(\"Probability that all 4 cards chosen by Anita are in the of set of 8 cards chosen by Babita is (using Monte Carlo simulation): {0:.6f}\".format(sim_prob))"
   ]
  },
  {
   "cell_type": "markdown",
   "metadata": {},
   "source": [
    "## Exact Solution\n",
    "Now let's calcualte the probailities directly using our knowledge of combinatorics."
   ]
  },
  {
   "cell_type": "markdown",
   "metadata": {},
   "source": [
    "First, we define a function for the mathematical \"choose\" function, i.e., nCr (n Choose r):\n",
    "\n",
    "$$ \\large nCr = \\frac{n!}{r! \\times (n-r)!} \\quad \\text{where } 1 \\leq r \\leq n $$"
   ]
  },
  {
   "cell_type": "code",
   "execution_count": 2,
   "metadata": {},
   "outputs": [
    {
     "data": {
      "text/plain": [
       "15"
      ]
     },
     "execution_count": 2,
     "metadata": {},
     "output_type": "execute_result"
    }
   ],
   "source": [
    "import math\n",
    "\n",
    "def nCr(n,r):\n",
    "    f = math.factorial\n",
    "    return f(n) // (f(r) * f(n-r))\n",
    "\n",
    "# check: nCr(6,2) is 15\n",
    "nCr(6,2)"
   ]
  },
  {
   "cell_type": "markdown",
   "metadata": {},
   "source": [
    "The probability is calcualted by dividing the number of combinations that has the desired property (i.e., combinations where the 8 cards that Babita picks includes all 4 cards that Anita has picked) by the total number of combinations that can happen (i.e., all combinations that Babita can pick 8 cards froma the deck).\n",
    "\n",
    "Regarding the denominator, there are 52C8 combinations (no matter it includes Anita's cards or not). In the numerator we should have all 4 cards that Anita has picked. So, we are left with 4=8-4 cards. How many ways can we choose these 4 cards from 48=52-4 cards? 48C4.\n",
    "\n",
    "The solution is:\n",
    "\n",
    "$$ \\large{ \\text{Probability (exact method)} = \\frac{48C4}{52C4}}$$\n"
   ]
  },
  {
   "cell_type": "code",
   "execution_count": 3,
   "metadata": {},
   "outputs": [
    {
     "name": "stdout",
     "output_type": "stream",
     "text": [
      "Probability that all 4 cards chosen by Anita are in the of set of 8 cards chosen by Babita is (using exact method): 0.000259\n"
     ]
    }
   ],
   "source": [
    "exact_prob = (nCr(48,4)/nCr(52,8))\n",
    "print(\"Probability that all 4 cards chosen by Anita are in the of set of 8 cards chosen by Babita is (using exact method): {0:.6f}\".format(exact_prob))"
   ]
  }
 ],
 "metadata": {
  "kernelspec": {
   "display_name": "Python 3",
   "language": "python",
   "name": "python3"
  },
  "language_info": {
   "codemirror_mode": {
    "name": "ipython",
    "version": 3
   },
   "file_extension": ".py",
   "mimetype": "text/x-python",
   "name": "python",
   "nbconvert_exporter": "python",
   "pygments_lexer": "ipython3",
   "version": "3.6.4"
  }
 },
 "nbformat": 4,
 "nbformat_minor": 2
}
