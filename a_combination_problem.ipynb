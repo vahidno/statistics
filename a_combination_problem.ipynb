{
 "cells": [
  {
   "cell_type": "markdown",
   "metadata": {},
   "source": [
    "# A Combination Problem"
   ]
  },
  {
   "cell_type": "markdown",
   "metadata": {},
   "source": [
    "Source: \n",
    "Anita randomly picks 4 cards from a deck of 52-cards and places them back into the deck ( Any set of 4 cards is equally likely ). Then, Babita randomly chooses 8 cards out of the same deck ( Any set of 8 cards is equally likely). Assume that the choice of 4 cards by Anita and the choice of 8 cards by Babita are independent. What is the probability that all 4 cards chosen by Anita are in the set of 8 cards chosen by Babita?\n",
    "(Question 7 from the <a href=\"https://www.analyticsvidhya.com/blog/2017/04/40-questions-on-probability-for-all-aspiring-data-scientists/\" target=\"_blank\">contest</a>)"
   ]
  },
  {
   "cell_type": "markdown",
   "metadata": {},
   "source": [
    "We can either solve this problem using Monte Carlo simulation or solve it using exact analytical methods."
   ]
  },
  {
   "cell_type": "markdown",
   "metadata": {},
   "source": [
    "## Monte Carlo Simulation\n"
   ]
  },
  {
   "cell_type": "code",
   "execution_count": 13,
   "metadata": {},
   "outputs": [
    {
     "output_type": "stream",
     "name": "stdout",
     "text": "Probability that all 4 cards chosen by Anita are in the of set of 8 cards chosen by Babita is (using Monte Carlo simulation): 0.000290\n"
    }
   ],
   "source": [
    "import numpy as np\n",
    "# Define a deck of 52 unique cards\n",
    "deck = range(1,53)\n",
    "#print(\"Deck of cards (from 1 to 52): \" + str(deck))\n",
    "\n",
    "# number of simulation replications/runs\n",
    "num_reps = int(1e8)\n",
    "\n",
    "# initialize the counter which counts the number of times all 4 Anita's cards \n",
    "# are in the set of 8 cards chosen by Babia\n",
    "counter = 0\n",
    "\n",
    "# start the simulation\n",
    "for rep in range(num_reps):\n",
    "    # Anita: randomly choose 4 cards from our deck of 52 cards (without replacement).\n",
    "    Anita_cards = np.random.choice(deck, size=4, replace = False)\n",
    "    #print(\"Anita's cards:\" + str(Anita_cards))\n",
    "\n",
    "    # Babita: randomly choose 8 cards from our deck of 52 cards (without replacement).\n",
    "    Babita_cards = np.random.choice(deck, size=8, replace = False)\n",
    "    #print(\"Babita's cards\" + str(Babita_cards))\n",
    "    \n",
    "    # Check if all 4 cards chosen by Anita are in the of set of 8 cards chosen by Babita\n",
    "    if set(Anita_cards).issubset(set(Babita_cards)):\n",
    "        counter+=1\n",
    "    #print(\"counter: \" + str(counter))\n",
    "\n",
    "    \n",
    "# calculate the probability that all 4 cards chosen by Anita are in the of set of 8 cards chosen by Babita\n",
    "sim_prob = counter/num_reps\n",
    "\n",
    "# print the results\n",
    "print(\"Probability that all 4 cards chosen by Anita are in the of set of 8 cards chosen by Babita is (using Monte Carlo simulation): {0:.6f}\".format(sim_prob))"
   ]
  },
  {
   "cell_type": "markdown",
   "metadata": {},
   "source": [
    "## Exact Solution\n",
    "Now let's calculate the probailities directly using our knowledge of combinatorics."
   ]
  },
  {
   "cell_type": "markdown",
   "metadata": {},
   "source": [
    "First, we define a function for the mathematical \"choose\" function, i.e., nCr (n Choose r):\n",
    "\n",
    "$$ \\large nCr = \\frac{n!}{r! \\times (n-r)!} \\quad \\text{where } 1 \\leq r \\leq n $$"
   ]
  },
  {
   "cell_type": "code",
   "execution_count": 2,
   "metadata": {},
   "outputs": [
    {
     "output_type": "execute_result",
     "data": {
      "text/plain": "15"
     },
     "metadata": {},
     "execution_count": 2
    }
   ],
   "source": [
    "import math\n",
    "\n",
    "def nCr(n,r):\n",
    "    f = math.factorial\n",
    "    return f(n) // (f(r) * f(n-r))\n",
    "\n",
    "# check: nCr(6,2) is 15\n",
    "nCr(6,2)"
   ]
  },
  {
   "cell_type": "markdown",
   "metadata": {},
   "source": [
    "The probability is calculated by dividing the number of combinations that has the desired property (i.e., combinations where the 8 cards that Babita picks includes all 4 cards that Anita has picked) by the total number of combinations that can happen (i.e., all combinations that Babita can pick 8 cards froma the deck).\n",
    "\n",
    "The total number of possible combination would be 52C4 (For selecting 4 cards by Anita) * 52C8 (For selecting 8 cards by Babita).\n",
    "\n",
    "Since, the 4 cards that Anita chooses is among the 8 cards which Babita has chosen, thus the number of combinations possible is 52C4 (For selecting the 4 cards selected by Anita) * 48C4 (For selecting any other 4 cards by Babita, since the 4 cards selected by Anita are common)\n",
    "\n",
    "The solution is:\n",
    "\n",
    "$$ \\large{P_{\\text{exact method}} = \\frac{52C4 \\times 48C4}{52C4 \\times 52C8}}$$\n"
   ]
  },
  {
   "cell_type": "code",
   "execution_count": 12,
   "metadata": {},
   "outputs": [
    {
     "output_type": "stream",
     "name": "stdout",
     "text": "Probability that all 4 cards chosen by Anita are in the of set of 8 cards chosen by Babita is (using exact method): 0.000259\n"
    }
   ],
   "source": [
    "prob_exact = (nCr(48,4)/nCr(52,8))\n",
    "print(\"Probability that all 4 cards chosen by Anita are in the of set of 8 cards chosen by Babita is (using exact method): {0:.6f}\".format(prob_exact))"
   ]
  },
  {
   "cell_type": "code",
   "execution_count": null,
   "metadata": {},
   "outputs": [],
   "source": []
  }
 ],
 "metadata": {
  "kernelspec": {
   "display_name": "Python 3",
   "language": "python",
   "name": "python3"
  },
  "language_info": {
   "codemirror_mode": {
    "name": "ipython",
    "version": 3
   },
   "file_extension": ".py",
   "mimetype": "text/x-python",
   "name": "python",
   "nbconvert_exporter": "python",
   "pygments_lexer": "ipython3",
   "version": "3.6.5-final"
  }
 },
 "nbformat": 4,
 "nbformat_minor": 2
}
